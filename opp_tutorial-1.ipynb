{
 "cells": [
  {
   "cell_type": "markdown",
   "metadata": {},
   "source": [
    "#### CLASSES\n",
    "    - Classes are blueprint for creating objects.\n",
    "    - (Basically hamary objects ma kya kya features hon gy, wo sab hum classes ma define kr dety ha ta k jab hum objects bnayain tw hamai pta ho k hamary object kaisa bny ga.)\n"
   ]
  },
  {
   "cell_type": "code",
   "execution_count": 8,
   "metadata": {},
   "outputs": [
    {
     "data": {
      "text/plain": [
       "'Usama'"
      ]
     },
     "execution_count": 8,
     "metadata": {},
     "output_type": "execute_result"
    }
   ],
   "source": [
    "# Creating Class\n",
    "class Student:\n",
    "    name = 'Usama'\n",
    "\n",
    "# Making instance/object of above class.\n",
    "stuName = Student() # yaha stuName hamara ab object ha..\n",
    "stuName.name "
   ]
  },
  {
   "cell_type": "markdown",
   "metadata": {},
   "source": [
    "#### Constructor Function\n",
    " - All classes have constructor function called __init__(self, .....), which is always execute when object/instance is being initiated.\n",
    " - The <b>self</b> parameter reference to the current instance of the class, and is used to access variables that belongs to the class. "
   ]
  },
  {
   "cell_type": "code",
   "execution_count": 15,
   "metadata": {},
   "outputs": [
    {
     "name": "stdout",
     "output_type": "stream",
     "text": [
      "Checking for self parameter, <__main__.Student2 object at 0x0000019F8F3283B0>\n",
      "verifying self parameter, <__main__.Student2 object at 0x0000019F8F3283B0>\n",
      "Fullname Usama \n",
      "Age 23 \n",
      "Marks 89\n"
     ]
    }
   ],
   "source": [
    "# Creating Class\n",
    "class Student2:\n",
    "    def __init__(self, fullname, marks, age):\n",
    "        print(\"Checking for self parameter,\", self)\n",
    "        # name, marks, age are attributes b/c we are storing our data of our object in these variable(attribute.) \n",
    "        self.name = fullname  # name is a variable (key of object), jis ma fullname ki value store ho rhi ha from parameter.\n",
    "        self.marks = marks\n",
    "        self.age = age\n",
    "\n",
    "        \n",
    "\n",
    "# Creating instance of Student2 class\n",
    "s2 = Student2(\"Usama\", 89, 23)\n",
    "print(\"verifying self parameter,\", s2)\n",
    "print('Fullname', s2.name, \"\\nAge\", s2.age, \"\\nMarks\", s2.marks)\n",
    "\n",
    "        "
   ]
  },
  {
   "cell_type": "code",
   "execution_count": 17,
   "metadata": {},
   "outputs": [
    {
     "name": "stdout",
     "output_type": "stream",
     "text": [
      "Adding new Student in DB...\n",
      "Fullname Usama \n",
      "Age 23 \n",
      "Marks 89\n",
      "Adding new Student in DB...\n",
      "Fullname Saad \n",
      "Age 17 \n",
      "Marks 99\n"
     ]
    }
   ],
   "source": [
    "# Creating Class\n",
    "class Student3:\n",
    "    def __init__(self, fullname, marks, age):\n",
    "        self.name = fullname  # name is a variable (key of object), jis ma fullname ki value store ho rhi ha from parameter.\n",
    "        self.marks = marks\n",
    "        self.age = age\n",
    "\n",
    "        print('Adding new Student in DB...')\n",
    "        \n",
    "\n",
    "# Creating instance of Student3 class\n",
    "s3 = Student3(\"Usama\", 89, 23)\n",
    "print('Fullname', s2.name, \"\\nAge\", s2.age, \"\\nMarks\", s2.marks)\n",
    "\n",
    "# Creating another instance of Student3 class\n",
    "s4 = Student3(\"Saad\", 99, 17)\n",
    "print('Fullname', s4.name, \"\\nAge\", s4.age, \"\\nMarks\", s4.marks)"
   ]
  },
  {
   "cell_type": "markdown",
   "metadata": {},
   "source": [
    "#### Class and Instance (Obj) Attributes\n",
    "Agr hum kisi school ki DB pr kaam kr rhy ha, us ma hamain students ka naam, gender, roll no. store kra na ha jo k hare student k lye different hoga, on the other hand school name aur principal name har student object k liye same hoga, tw jo data hamary har instance k sath change hoga aur different hoga tw hamary liye <b>Instance(Obj) Attribute</b> hoga. Aur jo data same ho ga for all instances aur sirf eik dafa create hoga class ma wo <b>Class Attribute</b> ho ga.\n",
    "- Such Attributes(variables) which are same for all instances and creates one time in the class are called <b>Class Attributes</b>.\n",
    "- Such Attribute which are different for all instances and provide by the user through parameters at the creation of instances are called <b>Instance Attributes</b>."
   ]
  },
  {
   "cell_type": "code",
   "execution_count": 23,
   "metadata": {},
   "outputs": [
    {
     "name": "stdout",
     "output_type": "stream",
     "text": [
      "Adding new Student in DB\n",
      "Usama 2234 88 DUET\n",
      "Hureer 22345 40 DUET\n",
      "Taseen 22345 40 DUET\n",
      "Raza 22345 90 DUET\n"
     ]
    }
   ],
   "source": [
    "class Student4:\n",
    "    school_name = \"DUET\" # Class Attribute (Same for all instances)\n",
    "    \n",
    "    def __init__(self, name, roll_no, marks):\n",
    "        self.name = name            # Instance Attribute (Different for all instances)\n",
    "        self.roll_no = roll_no      # Instance Attribute (Different for all instances)\n",
    "        self.marks = marks          # Instance Attribute (Different for all instances)\n",
    "\n",
    "std_one = Student4(\"Usama\", 2234, 88)\n",
    "std_two = Student4(\"Hureer\", 22345, 53)\n",
    "std_three = Student4(\"Taseen\",6969,40)\n",
    "std_four = Student4(\"Raza\",6655, 90)\n",
    "\n",
    "print(std_one.name,std_one.roll_no, std_one.marks, Student4.school_name)\n",
    "print(std_two.name, std_two.roll_no, std_three.marks,Student4.school_name)\n",
    "print( std_three.name, std_two.roll_no, std_three.marks, Student4.school_name)\n",
    "print(std_four.name, std_two.roll_no, std_four.marks, Student4.school_name)\n",
    "\n",
    "\n",
    "\n",
    "        "
   ]
  },
  {
   "cell_type": "markdown",
   "metadata": {},
   "source": [
    "#### Methods\n",
    "Methods are functions that belongs to the objects."
   ]
  },
  {
   "cell_type": "code",
   "execution_count": 33,
   "metadata": {},
   "outputs": [
    {
     "name": "stdout",
     "output_type": "stream",
     "text": [
      "Usama 88\n",
      "Welcome Usama\n",
      "marks 88\n"
     ]
    }
   ],
   "source": [
    "class Student5:\n",
    "    school_name = 'DUET'                # Class Attribute\n",
    "    def __init__(self, name, marks):\n",
    "        self.name = name                # Instance Attribute\n",
    "        self.marks = marks              # Instance Attribute\n",
    "\n",
    "    def welcome(self):                  # Method\n",
    "        print('Welcome', self.name)\n",
    "\n",
    "    def get_marks(self):                # Method\n",
    "        print(\"marks\", self.marks)\n",
    "\n",
    "new_std = Student5(\"Usama\", 88)\n",
    "print(new_std.name, new_std.marks)\n",
    "new_std.welcome()\n",
    "new_std.get_marks()\n",
    "\n",
    "\n",
    "    "
   ]
  },
  {
   "cell_type": "markdown",
   "metadata": {},
   "source": [
    "- Practice Question:\n",
    "  - Create student class that takes name and marks of 3 subjects as arguments in constructor, then create method to prin the average. "
   ]
  },
  {
   "cell_type": "code",
   "execution_count": null,
   "metadata": {},
   "outputs": [],
   "source": []
  },
  {
   "cell_type": "markdown",
   "metadata": {},
   "source": [
    "#### Static Methods\n",
    "- Those methods which do not take <b>self</b> as a parameter are called Static Method.\n",
    "- These methods have no concern with our instances(object) or with the parameters that we pass through the instance(object).\n",
    "- We use a decorator <b>@staticmethod</b> to make our method static, if we do not use this then we will have an error. "
   ]
  },
  {
   "cell_type": "code",
   "execution_count": 6,
   "metadata": {},
   "outputs": [
    {
     "name": "stdout",
     "output_type": "stream",
     "text": [
      "How are you ?\n",
      "Your car name is Civic and its color is grey.\n"
     ]
    }
   ],
   "source": [
    "class Car:\n",
    "    def __init__(self, car_name, color):\n",
    "        self.car_name = car_name\n",
    "        self.color = color\n",
    "\n",
    "    # normal method b/c below method is consuming \"self\" parameter.\n",
    "    def congrats(self):\n",
    "        print(f'Your car name is {self.car_name} and its color is {self.color}.')\n",
    "\n",
    "    # below is static method b/c it is not consuming \"self\" parameter, but also throwing error, to overcome this we use a decorator can be seen below.\n",
    "    @staticmethod  # decorator\n",
    "    def onceAgain():\n",
    "        print('How are you ?')\n",
    "\n",
    "car1 = Car('Civic', 'grey')\n",
    "car1.onceAgain()\n",
    "car1.congrats()\n",
    "        "
   ]
  },
  {
   "cell_type": "markdown",
   "metadata": {},
   "source": [
    "- Practice Question:\n",
    "  - Create Account class with 2 Attributes - balance and Account Number.\n",
    "  - Create methos for debit, credit and printing the balance."
   ]
  },
  {
   "cell_type": "code",
   "execution_count": null,
   "metadata": {},
   "outputs": [],
   "source": []
  },
  {
   "cell_type": "markdown",
   "metadata": {},
   "source": [
    "#### Deleting instance/object or Attributes"
   ]
  },
  {
   "cell_type": "code",
   "execution_count": 10,
   "metadata": {},
   "outputs": [
    {
     "name": "stdout",
     "output_type": "stream",
     "text": [
      "Apple\n"
     ]
    }
   ],
   "source": [
    "class Fruits():\n",
    "    def __init__(self, fruit_name):\n",
    "        self.fruit_name = fruit_name\n",
    "\n",
    "fruit1 = Fruits(\"Apple\")\n",
    "\n",
    "print(fruit1.fruit_name)\n",
    "del(fruit1.fruit_name)    # This is how we can delete our instance and attribute.\n"
   ]
  },
  {
   "cell_type": "markdown",
   "metadata": {},
   "source": [
    "#### Private(like) Attributes and Methods\n",
    "- Private Attributes and Methods are meant to be used only with in the class and are not accessible outside the class.\n",
    "- To make any attribute or method private just put tw underscore before attribute's and method's name."
   ]
  },
  {
   "cell_type": "code",
   "execution_count": 20,
   "metadata": {},
   "outputs": [
    {
     "name": "stdout",
     "output_type": "stream",
     "text": [
      "Access Denied\n",
      "None\n"
     ]
    }
   ],
   "source": [
    "class Person:\n",
    "    __password = \"Usama\" # private attribute\n",
    "\n",
    "    def __hello(self):        # Private method (cannot be access through instance)\n",
    "        print('Access Denied')\n",
    "\n",
    "    def greeting(self): # hello() method cannot be accessible directly but if the same method call into another method which is not private then we can also utilize private method.\n",
    "        self.__hello()\n",
    "\n",
    "pass_check = Person() \n",
    "print(pass_check.greeting())"
   ]
  },
  {
   "cell_type": "markdown",
   "metadata": {},
   "source": [
    "#### Inheritance\n",
    "- When one class (child/derived) derives the properties and methods of another class (parent/base).\n",
    "- Inheriting properties of parent class in the child class."
   ]
  },
  {
   "cell_type": "code",
   "execution_count": 23,
   "metadata": {},
   "outputs": [
    {
     "name": "stdout",
     "output_type": "stream",
     "text": [
      "Started\n",
      "None\n"
     ]
    }
   ],
   "source": [
    "class Car:\n",
    "    @staticmethod      # jab hum koi normal method bna ty ha tw uss ma self parameter dena hota ha, but agr \"@staticmethod\" ka decorator laga dain tw wo error nhi ata aur \"self\" parameter ki need bhi nhi hoti.\n",
    "\n",
    "    def start():\n",
    "        print('Started')\n",
    "\n",
    "    @staticmethod\n",
    "    def stop():\n",
    "        print('Stopped')\n",
    "\n",
    "class Toyota(Car):           # Accessing \"Car\" class in \"Toyota\" Class.\n",
    "    def __init__(self, name):\n",
    "        self.name = name\n",
    "\n",
    "car1 = Toyota(\"Prius\")\n",
    "print(car1.start())         # getting print of method of Car class through the instance/obj of Toyota class."
   ]
  },
  {
   "cell_type": "markdown",
   "metadata": {},
   "source": [
    "##### Types of Inheritance\n",
    "- Single Inheritance\n",
    "- Multi-level Inheritance\n",
    "- Multiple Inheritance"
   ]
  },
  {
   "cell_type": "code",
   "execution_count": 1,
   "metadata": {},
   "outputs": [
    {
     "name": "stdout",
     "output_type": "stream",
     "text": [
      "Started\n",
      "None\n"
     ]
    }
   ],
   "source": [
    "#  SINGLE INHERITANCE\n",
    "class Car:\n",
    "    @staticmethod \n",
    "\n",
    "    def start():\n",
    "        print('Started')\n",
    "\n",
    "    @staticmethod\n",
    "    def stop():\n",
    "        print('Stopped')\n",
    "\n",
    "class Toyota(Car): \n",
    "    def __init__(self, name):\n",
    "        self.name = name\n",
    "\n",
    "car1 = Toyota(\"Prius\")\n",
    "\n",
    "print(car1.start())"
   ]
  },
  {
   "cell_type": "code",
   "execution_count": 3,
   "metadata": {},
   "outputs": [
    {
     "name": "stdout",
     "output_type": "stream",
     "text": [
      "Started\n",
      "None\n"
     ]
    }
   ],
   "source": [
    "# MULTI LEVEL INHERITANCE\n",
    "# In multi level inheritance we add different classes and inherit their properties to the new level added class..\n",
    "class Car:\n",
    "    @staticmethod \n",
    "\n",
    "    def start():\n",
    "        print('Started')\n",
    "\n",
    "    @staticmethod\n",
    "    def stop():\n",
    "        print('Stopped')\n",
    "\n",
    "class Toyota(Car): \n",
    "    def __init__(self, name):\n",
    "        self.name = name\n",
    "\n",
    "class Fortuner(Car):\n",
    "    def __init__(self, type): \n",
    "        self.type = type\n",
    "\n",
    "car_brand = Fortuner('Diesel')\n",
    "print(car_brand.start())"
   ]
  },
  {
   "cell_type": "code",
   "execution_count": 5,
   "metadata": {},
   "outputs": [
    {
     "name": "stdout",
     "output_type": "stream",
     "text": [
      "From Class A\n",
      "From Class B\n",
      "Driectly from class C.\n"
     ]
    }
   ],
   "source": [
    "# MULTIPLE INHERITANCE\n",
    "# in multiple level inheritance we call both class A and class B in class C, so that class C now contain properties of both class A and B.\n",
    "class A:\n",
    "    varA = \"From Class A\"\n",
    "\n",
    "class B:\n",
    "    varB = \"From Class B\"\n",
    "\n",
    "class C(A,B):\n",
    "    varC = \"Directly from class C.\"\n",
    "\n",
    "objC = C()\n",
    "print(objC.varA)\n",
    "print(objC.varB)\n",
    "print(objC.varC)"
   ]
  },
  {
   "cell_type": "code",
   "execution_count": 13,
   "metadata": {},
   "outputs": [
    {
     "name": "stdout",
     "output_type": "stream",
     "text": [
      "Diesel\n"
     ]
    }
   ],
   "source": [
    "\n",
    "class Car:\n",
    "    def __init__(self,type):\n",
    "        self.type = type\n",
    "\n",
    "    @staticmethod \n",
    "    def start():\n",
    "        print('Started')\n",
    "\n",
    "    @staticmethod\n",
    "    def stop():\n",
    "        print('Stopped')\n",
    "\n",
    "class Toyota(Car): \n",
    "    def __init__(self, name, type):\n",
    "        self.name = name\n",
    "        super().__init__(type)\n",
    "\n",
    "car1 = Toyota(\"Prius\", \"Diesel\")\n",
    "\n",
    "print(car1.type)"
   ]
  },
  {
   "cell_type": "code",
   "execution_count": null,
   "metadata": {},
   "outputs": [],
   "source": []
  },
  {
   "cell_type": "code",
   "execution_count": null,
   "metadata": {},
   "outputs": [],
   "source": []
  },
  {
   "cell_type": "code",
   "execution_count": null,
   "metadata": {},
   "outputs": [],
   "source": []
  },
  {
   "cell_type": "code",
   "execution_count": null,
   "metadata": {},
   "outputs": [],
   "source": []
  },
  {
   "cell_type": "code",
   "execution_count": null,
   "metadata": {},
   "outputs": [],
   "source": []
  },
  {
   "cell_type": "code",
   "execution_count": null,
   "metadata": {},
   "outputs": [],
   "source": []
  },
  {
   "cell_type": "code",
   "execution_count": null,
   "metadata": {},
   "outputs": [],
   "source": []
  },
  {
   "cell_type": "code",
   "execution_count": null,
   "metadata": {},
   "outputs": [],
   "source": []
  },
  {
   "cell_type": "code",
   "execution_count": null,
   "metadata": {},
   "outputs": [],
   "source": []
  },
  {
   "cell_type": "code",
   "execution_count": null,
   "metadata": {},
   "outputs": [],
   "source": []
  }
 ],
 "metadata": {
  "kernelspec": {
   "display_name": "Python 3",
   "language": "python",
   "name": "python3"
  },
  "language_info": {
   "codemirror_mode": {
    "name": "ipython",
    "version": 3
   },
   "file_extension": ".py",
   "mimetype": "text/x-python",
   "name": "python",
   "nbconvert_exporter": "python",
   "pygments_lexer": "ipython3",
   "version": "3.12.3"
  }
 },
 "nbformat": 4,
 "nbformat_minor": 2
}
